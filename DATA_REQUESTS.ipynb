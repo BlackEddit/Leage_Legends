{
 "cells": [
  {
   "cell_type": "code",
   "execution_count": 17,
   "metadata": {},
   "outputs": [],
   "source": [
    "import requests\n",
    "import json"
   ]
  },
  {
   "cell_type": "code",
   "execution_count": 18,
   "metadata": {},
   "outputs": [
    {
     "name": "stdout",
     "output_type": "stream",
     "text": [
      "13.17.1\n"
     ]
    }
   ],
   "source": [
    "# obtencion de la version mas actual de data dragon:\n",
    "# Obtener la versión más reciente\n",
    "url_versions = \"https://ddragon.leagueoflegends.com/api/versions.json\"\n",
    "response_versions = requests.get(url_versions)\n",
    "latest_version = json.loads(response_versions.text)[0]  # La versión más reciente es la primera en la lista.\n",
    "print(latest_version)"
   ]
  },
  {
   "cell_type": "code",
   "execution_count": 19,
   "metadata": {},
   "outputs": [],
   "source": [
    "# Obtencion de el carril inferior\n",
    "\n",
    "\n",
    "##Sustituimos la version que nos haya resultado despues del cnd\n",
    "url_all_champs = \"http://ddragon.leagueoflegends.com/cdn/13.17.1/data/en_US/champion.json\"\n",
    "response_all_champs = requests.get(url_all_champs)\n",
    "data_all_champs = json.loads(response_all_champs.text)\n"
   ]
  },
  {
   "cell_type": "code",
   "execution_count": 22,
   "metadata": {},
   "outputs": [],
   "source": [
    "#Filtro por carril inferior\n",
    "bottom_lane_champs = [champ for champ, details in data_all_champs['data'].items() if \"adc\" in details['tags'] or \"Support\" in details['tags']] ## Solo obtuvimos los SUP por alguna razon\n"
   ]
  },
  {
   "cell_type": "code",
   "execution_count": 23,
   "metadata": {},
   "outputs": [],
   "source": [
    "#Guardado y descargar los datos\n",
    "for champ in bottom_lane_champs:\n",
    "    url = f\"http://ddragon.leagueoflegends.com/cdn/11.21.1/data/en_US/champion/{champ}.json\"\n",
    "    response = requests.get(url)\n",
    "    if response.status_code == 200:\n",
    "        data = json.loads(response.text)\n",
    "        with open(f\"{champ}.json\", 'w') as f:\n",
    "            json.dump(data, f, indent=4)"
   ]
  },
  {
   "cell_type": "code",
   "execution_count": null,
   "metadata": {},
   "outputs": [],
   "source": []
  }
 ],
 "metadata": {
  "kernelspec": {
   "display_name": "Python 3",
   "language": "python",
   "name": "python3"
  },
  "language_info": {
   "codemirror_mode": {
    "name": "ipython",
    "version": 3
   },
   "file_extension": ".py",
   "mimetype": "text/x-python",
   "name": "python",
   "nbconvert_exporter": "python",
   "pygments_lexer": "ipython3",
   "version": "3.11.2"
  },
  "orig_nbformat": 4
 },
 "nbformat": 4,
 "nbformat_minor": 2
}
